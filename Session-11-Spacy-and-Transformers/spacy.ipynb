{
 "cells": [
  {
   "cell_type": "markdown",
   "metadata": {},
   "source": [
    "## Installation instructions\n",
    "\n",
    "[![colab badge](https://colab.research.google.com/assets/colab-badge.svg)](https://colab.research.google.com/github/mcallaghan/text-as-data/blob/master/Session-11-Spacy-and-Transformers/spacy.ipynb)\n",
    "\n",
    "To install the required libraries, you will need to do the following in a terminal shell (or prepend a ! to each line and run in colab)\n",
    "\n",
    "```\n",
    "pip install spacy\n",
    "python -m spacy download en_core_web_md\n",
    "```"
   ]
  },
  {
   "cell_type": "code",
   "execution_count": 4,
   "metadata": {},
   "outputs": [],
   "source": [
    "import spacy"
   ]
  },
  {
   "cell_type": "code",
   "execution_count": 5,
   "metadata": {},
   "outputs": [
    {
     "name": "stdout",
     "output_type": "stream",
     "text": [
      "COP27 COP27 PROPN NNP nsubj XXXdd False False\n",
      "ends end VERB VBZ ROOT xxxx True False\n",
      "in in ADP IN prep xx True True\n",
      "tears tear NOUN NNS pobj xxxx True False\n",
      "and and CCONJ CC cc xxx True True\n",
      "frustration frustration NOUN NN conj xxxx True False\n",
      ": : PUNCT : punct : False False\n",
      "‘ ' PUNCT `` punct ‘ False False\n",
      "The the DET DT det Xxx True True\n",
      "world world NOUN NN nsubj xxxx True False\n",
      "will will AUX MD aux xxxx True True\n",
      "not not PART RB neg xxx True True\n",
      "thank thank VERB VB ccomp xxxx True False\n",
      "us we PRON PRP dobj xx True True\n",
      "’ ' PUNCT '' punct ’ False False\n"
     ]
    }
   ],
   "source": [
    "text = \"\"\"COP27 ends in tears and frustration: ‘The world will not thank us’\"\"\"\n",
    "\n",
    "nlp = spacy.load(\"en_core_web_md\")\n",
    "doc = nlp(text)\n",
    "for token in doc:\n",
    "    print(token.text, token.lemma_, token.pos_, token.tag_, token.dep_,\n",
    "            token.shape_, token.is_alpha, token.is_stop)"
   ]
  },
  {
   "cell_type": "code",
   "execution_count": 6,
   "metadata": {},
   "outputs": [
    {
     "data": {
      "text/plain": [
       "(300,)"
      ]
     },
     "execution_count": 6,
     "metadata": {},
     "output_type": "execute_result"
    }
   ],
   "source": [
    "doc.vector.shape"
   ]
  },
  {
   "cell_type": "code",
   "execution_count": 7,
   "metadata": {},
   "outputs": [
    {
     "data": {
      "text/plain": [
       "0.5309292245067629"
      ]
     },
     "execution_count": 7,
     "metadata": {},
     "output_type": "execute_result"
    }
   ],
   "source": [
    "doc.similarity(nlp(\"Third year of strikes threatens Argentina’s grain exports\"))"
   ]
  },
  {
   "cell_type": "code",
   "execution_count": 8,
   "metadata": {},
   "outputs": [
    {
     "name": "stdout",
     "output_type": "stream",
     "text": [
      "COP27 ORG\n"
     ]
    }
   ],
   "source": [
    "for ent in doc.ents:\n",
    "    print(ent.text, ent.label_)"
   ]
  },
  {
   "cell_type": "code",
   "execution_count": null,
   "metadata": {},
   "outputs": [],
   "source": []
  }
 ],
 "metadata": {
  "kernelspec": {
   "display_name": "Python 3 (ipykernel)",
   "language": "python",
   "name": "python3"
  },
  "language_info": {
   "codemirror_mode": {
    "name": "ipython",
    "version": 3
   },
   "file_extension": ".py",
   "mimetype": "text/x-python",
   "name": "python",
   "nbconvert_exporter": "python",
   "pygments_lexer": "ipython3",
   "version": "3.10.12"
  }
 },
 "nbformat": 4,
 "nbformat_minor": 4
}
