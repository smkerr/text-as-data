{
 "cells": [
  {
   "cell_type": "markdown",
   "metadata": {},
   "source": [
    "## Texts to features\n",
    "\n",
    "This notebook explains the basics of turning texts into features in Python."
   ]
  },
  {
   "cell_type": "code",
   "execution_count": 1,
   "metadata": {},
   "outputs": [],
   "source": [
    "import matplotlib.pyplot as plt\n",
    "from matplotlib.colors import Normalize\n",
    "from sklearn.feature_extraction.text import CountVectorizer, TfidfVectorizer\n",
    "import numpy as np"
   ]
  },
  {
   "cell_type": "markdown",
   "metadata": {},
   "source": [
    "### Input\n",
    "\n",
    "The input we need is a list of texts. This can be a python list object, or a column of a dataframe, or any other listlike object.\n",
    "\n",
    "We define our list below"
   ]
  },
  {
   "cell_type": "code",
   "execution_count": 2,
   "metadata": {},
   "outputs": [],
   "source": [
    "texts = [\n",
    "    \"System change not climate change\",\n",
    "    \"The Current State of the Climate\",\n",
    "    \"Mitigation pathways compatible with long-term goals\",\n",
    "    \"Climate Change 2022: Impacts, Adaptation and Vulnerability\"\n",
    "]"
   ]
  },
  {
   "cell_type": "markdown",
   "metadata": {},
   "source": [
    "## Processing\n",
    "\n",
    "We can process these by [*instantiating*](https://docs.python.org/3/tutorial/classes.html#class-objects) a [CountVecotrizer](https://scikit-learn.org/stable/modules/generated/sklearn.feature_extraction.text.CountVectorizer.html#sklearn.feature_extraction.text.CountVectorizer) object from [scikit-learn](https://scikit-learn.org/stable/index.html). We pass the list of texts to the `fit_transform()` method"
   ]
  },
  {
   "cell_type": "code",
   "execution_count": 3,
   "metadata": {},
   "outputs": [],
   "source": [
    "# We can turn these into dfm by passing them to the fit_transform method of a CountVectorizer instance\n",
    "\n",
    "vectorizer = CountVectorizer()\n",
    "dfm = vectorizer.fit_transform(texts)\n",
    "vocab = vectorizer.get_feature_names_out()"
   ]
  },
  {
   "cell_type": "code",
   "execution_count": 4,
   "metadata": {},
   "outputs": [
    {
     "data": {
      "image/png": "[encoded data removed]",
      "text/plain": [
       "<Figure size 432x288 with 1 Axes>"
      ]
     },
     "metadata": {
      "needs_background": "light"
     },
     "output_type": "display_data"
    }
   ],
   "source": [
    "fig, ax = plt.subplots()\n",
    "\n",
    "X = dfm.todense()\n",
    "\n",
    "# Plot a heatmap of the dfm\n",
    "ax.imshow(\n",
    "    X,\n",
    "    cmap = \"Greys\",\n",
    "    norm = Normalize(vmin=0, vmax=3)\n",
    ")\n",
    "\n",
    "# Create a grid using minor ticks\n",
    "ax.set_xticks(np.arange(X.shape[1])+0.5, minor=True)\n",
    "ax.set_yticks(np.arange(X.shape[0])+0.5, minor=True)\n",
    "ax.grid(which=\"minor\", zorder=5)\n",
    "\n",
    "# Set up x labels\n",
    "ax.xaxis.tick_top()\n",
    "ax.set_xticks(np.arange(X.shape[1]))\n",
    "ax.set_xticklabels(vocab, rotation=60, ha=\"left\", va=\"bottom\")\n",
    "\n",
    "# Set up y labels\n",
    "ax.set_yticks(range(len(texts)))\n",
    "ax.set_yticklabels(texts)\n",
    "\n",
    "# Put the numbers in\n",
    "for m in range(X.shape[0]):\n",
    "    for n in range(X.shape[1]):\n",
    "        ax.text(n, m, X[m, n], ha=\"center\", va=\"center\")\n",
    "\n",
    "plt.savefig(\"plots/doc_feature_matrix.pdf\", bbox_inches=\"tight\")"
   ]
  },
  {
   "cell_type": "code",
   "execution_count": 5,
   "metadata": {},
   "outputs": [
    {
     "data": {
      "text/plain": [
       "20"
      ]
     },
     "execution_count": 5,
     "metadata": {},
     "output_type": "execute_result"
    }
   ],
   "source": [
    "dfm.shape[1]"
   ]
  },
  {
   "cell_type": "code",
   "execution_count": 6,
   "metadata": {},
   "outputs": [
    {
     "data": {
      "text/plain": [
       "array([-1.        ,  0.13389342, -1.        ,  0.42886902, -1.        ])"
      ]
     },
     "execution_count": 6,
     "metadata": {},
     "output_type": "execute_result"
    }
   ],
   "source": [
    "texts = [\n",
    "  \"Poverty and inequality implications of carbon pricing\",\n",
    "  \"Optimizing and Comparing Topic Models is Simple\",\n",
    "  \"How to stop cities and companies causing planetary harm\",\n",
    "  \"Contextualized Document Embeddings Improve Topic Coherence\",\n",
    "  \"Optimal carbon taxation and horizontal equity\"\n",
    "]\n",
    "\n",
    "vectorizer = TfidfVectorizer(use_idf=False)\n",
    "dfm = vectorizer.fit_transform(texts)\n",
    "vocab = vectorizer.get_feature_names_out()\n",
    "\n",
    "X = dfm.toarray()\n",
    "vi = vectorizer.vocabulary_\n",
    "pred = -1 + X[:,vi[\"document\"]]*0.5 + X[:,vi[\"topic\"]]*3\n",
    "\n",
    "pred\n"
   ]
  },
  {
   "cell_type": "code",
   "execution_count": 10,
   "metadata": {},
   "outputs": [
    {
     "data": {
      "text/plain": [
       "array(['change', 'climate', 'current', 'not', 'of', 'state', 'system',\n",
       "       'the'], dtype=object)"
      ]
     },
     "execution_count": 10,
     "metadata": {},
     "output_type": "execute_result"
    }
   ],
   "source": [
    "vectorizer.get_feature_names_out()"
   ]
  },
  {
   "cell_type": "code",
   "execution_count": 11,
   "metadata": {},
   "outputs": [
    {
     "data": {
      "text/plain": [
       "{'system': 6,\n",
       " 'change': 0,\n",
       " 'not': 3,\n",
       " 'climate': 1,\n",
       " 'the': 7,\n",
       " 'current': 2,\n",
       " 'state': 5,\n",
       " 'of': 4}"
      ]
     },
     "execution_count": 11,
     "metadata": {},
     "output_type": "execute_result"
    }
   ],
   "source": [
    "vectorizer.vocabulary_"
   ]
  },
  {
   "cell_type": "code",
   "execution_count": 7,
   "metadata": {},
   "outputs": [
    {
     "data": {
      "text/plain": [
       "<2x8 sparse matrix of type '<class 'numpy.int64'>'\n",
       "\twith 9 stored elements in Compressed Sparse Row format>"
      ]
     },
     "execution_count": 7,
     "metadata": {},
     "output_type": "execute_result"
    }
   ],
   "source": [
    "texts = [\"System change not climate change\",\"The Current State of the Climate\"]\n",
    "vectorizer = CountVectorizer()\n",
    "X = vectorizer.fit_transform(texts)\n",
    "X"
   ]
  },
  {
   "cell_type": "code",
   "execution_count": 8,
   "metadata": {},
   "outputs": [
    {
     "name": "stdout",
     "output_type": "stream",
     "text": [
      "['the' 'climate' 'change' 'system' 'state' 'of' 'not' 'current']\n",
      "[2 2 2 1 1 1 1 1]\n"
     ]
    }
   ],
   "source": [
    "counts = X.sum(axis=0).A1\n",
    "order = np.argsort(counts)[::-1]\n",
    "print(vectorizer.get_feature_names_out()[order])\n",
    "print(counts[order])\n"
   ]
  },
  {
   "cell_type": "code",
   "execution_count": null,
   "metadata": {},
   "outputs": [],
   "source": []
  }
 ],
 "metadata": {
  "kernelspec": {
   "display_name": "Python 3 (ipykernel)",
   "language": "python",
   "name": "python3"
  },
  "language_info": {
   "codemirror_mode": {
    "name": "ipython",
    "version": 3
   },
   "file_extension": ".py",
   "mimetype": "text/x-python",
   "name": "python",
   "nbconvert_exporter": "python",
   "pygments_lexer": "ipython3",
   "version": "3.10.12"
  }
 },
 "nbformat": 4,
 "nbformat_minor": 4
}
